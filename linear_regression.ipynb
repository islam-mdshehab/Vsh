{
 "cells": [
  {
   "cell_type": "code",
   "execution_count": 56,
   "metadata": {},
   "outputs": [],
   "source": [
    "import numpy as np\n",
    "import pandas as pd\n",
    "import matplotlib.pyplot as plt\n",
    "import seaborn as sns"
   ]
  },
  {
   "cell_type": "markdown",
   "metadata": {},
   "source": [
    "### Read the csv file and checking the first five observation"
   ]
  },
  {
   "cell_type": "code",
   "execution_count": 57,
   "metadata": {
    "scrolled": true
   },
   "outputs": [
    {
     "data": {
      "text/html": [
       "<div>\n",
       "<style scoped>\n",
       "    .dataframe tbody tr th:only-of-type {\n",
       "        vertical-align: middle;\n",
       "    }\n",
       "\n",
       "    .dataframe tbody tr th {\n",
       "        vertical-align: top;\n",
       "    }\n",
       "\n",
       "    .dataframe thead th {\n",
       "        text-align: right;\n",
       "    }\n",
       "</style>\n",
       "<table border=\"1\" class=\"dataframe\">\n",
       "  <thead>\n",
       "    <tr style=\"text-align: right;\">\n",
       "      <th></th>\n",
       "      <th>DEPTH</th>\n",
       "      <th>CALI</th>\n",
       "      <th>DRHO</th>\n",
       "      <th>NPHI</th>\n",
       "      <th>PEF</th>\n",
       "      <th>RT</th>\n",
       "      <th>KLOGH</th>\n",
       "      <th>PHIF</th>\n",
       "      <th>VSH</th>\n",
       "    </tr>\n",
       "  </thead>\n",
       "  <tbody>\n",
       "    <tr>\n",
       "      <th>0</th>\n",
       "      <td>3351.6</td>\n",
       "      <td>8.682</td>\n",
       "      <td>0.061</td>\n",
       "      <td>0.277</td>\n",
       "      <td>6.865</td>\n",
       "      <td>2.314</td>\n",
       "      <td>0.001</td>\n",
       "      <td>0.055</td>\n",
       "      <td>0.869</td>\n",
       "    </tr>\n",
       "    <tr>\n",
       "      <th>1</th>\n",
       "      <td>3351.7</td>\n",
       "      <td>8.672</td>\n",
       "      <td>0.059</td>\n",
       "      <td>0.283</td>\n",
       "      <td>6.730</td>\n",
       "      <td>2.373</td>\n",
       "      <td>0.001</td>\n",
       "      <td>0.058</td>\n",
       "      <td>0.892</td>\n",
       "    </tr>\n",
       "    <tr>\n",
       "      <th>2</th>\n",
       "      <td>3351.8</td>\n",
       "      <td>8.625</td>\n",
       "      <td>0.057</td>\n",
       "      <td>0.285</td>\n",
       "      <td>6.580</td>\n",
       "      <td>2.309</td>\n",
       "      <td>0.001</td>\n",
       "      <td>0.061</td>\n",
       "      <td>0.881</td>\n",
       "    </tr>\n",
       "    <tr>\n",
       "      <th>3</th>\n",
       "      <td>3351.9</td>\n",
       "      <td>8.578</td>\n",
       "      <td>0.057</td>\n",
       "      <td>0.280</td>\n",
       "      <td>6.467</td>\n",
       "      <td>2.255</td>\n",
       "      <td>0.001</td>\n",
       "      <td>0.062</td>\n",
       "      <td>0.886</td>\n",
       "    </tr>\n",
       "    <tr>\n",
       "      <th>4</th>\n",
       "      <td>3352.0</td>\n",
       "      <td>8.601</td>\n",
       "      <td>0.056</td>\n",
       "      <td>0.267</td>\n",
       "      <td>6.400</td>\n",
       "      <td>2.309</td>\n",
       "      <td>0.001</td>\n",
       "      <td>0.064</td>\n",
       "      <td>0.876</td>\n",
       "    </tr>\n",
       "  </tbody>\n",
       "</table>\n",
       "</div>"
      ],
      "text/plain": [
       "    DEPTH   CALI   DRHO   NPHI    PEF     RT  KLOGH   PHIF    VSH\n",
       "0  3351.6  8.682  0.061  0.277  6.865  2.314  0.001  0.055  0.869\n",
       "1  3351.7  8.672  0.059  0.283  6.730  2.373  0.001  0.058  0.892\n",
       "2  3351.8  8.625  0.057  0.285  6.580  2.309  0.001  0.061  0.881\n",
       "3  3351.9  8.578  0.057  0.280  6.467  2.255  0.001  0.062  0.886\n",
       "4  3352.0  8.601  0.056  0.267  6.400  2.309  0.001  0.064  0.876"
      ]
     },
     "execution_count": 57,
     "metadata": {},
     "output_type": "execute_result"
    }
   ],
   "source": [
    "df = pd.read_csv(r'USED DATA\\Volvo 11 B Vsh.csv')\n",
    "df.head()"
   ]
  },
  {
   "cell_type": "code",
   "execution_count": 58,
   "metadata": {},
   "outputs": [
    {
     "data": {
      "text/html": [
       "<div>\n",
       "<style scoped>\n",
       "    .dataframe tbody tr th:only-of-type {\n",
       "        vertical-align: middle;\n",
       "    }\n",
       "\n",
       "    .dataframe tbody tr th {\n",
       "        vertical-align: top;\n",
       "    }\n",
       "\n",
       "    .dataframe thead th {\n",
       "        text-align: right;\n",
       "    }\n",
       "</style>\n",
       "<table border=\"1\" class=\"dataframe\">\n",
       "  <thead>\n",
       "    <tr style=\"text-align: right;\">\n",
       "      <th></th>\n",
       "      <th>DEPTH</th>\n",
       "      <th>CALI</th>\n",
       "      <th>DRHO</th>\n",
       "      <th>NPHI</th>\n",
       "      <th>PEF</th>\n",
       "      <th>RT</th>\n",
       "      <th>KLOGH</th>\n",
       "      <th>PHIF</th>\n",
       "      <th>VSH</th>\n",
       "    </tr>\n",
       "  </thead>\n",
       "  <tbody>\n",
       "    <tr>\n",
       "      <th>count</th>\n",
       "      <td>13911.00000</td>\n",
       "      <td>13911.000000</td>\n",
       "      <td>13911.000000</td>\n",
       "      <td>13911.000000</td>\n",
       "      <td>13911.000000</td>\n",
       "      <td>13911.000000</td>\n",
       "      <td>13911.000000</td>\n",
       "      <td>13911.000000</td>\n",
       "      <td>13911.000000</td>\n",
       "    </tr>\n",
       "    <tr>\n",
       "      <th>mean</th>\n",
       "      <td>4048.43871</td>\n",
       "      <td>8.661730</td>\n",
       "      <td>0.056124</td>\n",
       "      <td>0.191735</td>\n",
       "      <td>5.367626</td>\n",
       "      <td>2506.850652</td>\n",
       "      <td>346.473834</td>\n",
       "      <td>0.159142</td>\n",
       "      <td>0.247266</td>\n",
       "    </tr>\n",
       "    <tr>\n",
       "      <th>std</th>\n",
       "      <td>402.43141</td>\n",
       "      <td>0.071179</td>\n",
       "      <td>0.016340</td>\n",
       "      <td>0.055184</td>\n",
       "      <td>1.340783</td>\n",
       "      <td>12047.425389</td>\n",
       "      <td>518.542832</td>\n",
       "      <td>0.078339</td>\n",
       "      <td>0.174159</td>\n",
       "    </tr>\n",
       "    <tr>\n",
       "      <th>min</th>\n",
       "      <td>3351.60000</td>\n",
       "      <td>8.318000</td>\n",
       "      <td>-0.040000</td>\n",
       "      <td>0.024000</td>\n",
       "      <td>3.647000</td>\n",
       "      <td>0.140000</td>\n",
       "      <td>0.001000</td>\n",
       "      <td>0.020000</td>\n",
       "      <td>0.026000</td>\n",
       "    </tr>\n",
       "    <tr>\n",
       "      <th>25%</th>\n",
       "      <td>3699.35000</td>\n",
       "      <td>8.625000</td>\n",
       "      <td>0.046000</td>\n",
       "      <td>0.161000</td>\n",
       "      <td>4.395000</td>\n",
       "      <td>2.973000</td>\n",
       "      <td>0.637500</td>\n",
       "      <td>0.085000</td>\n",
       "      <td>0.105000</td>\n",
       "    </tr>\n",
       "    <tr>\n",
       "      <th>50%</th>\n",
       "      <td>4049.20000</td>\n",
       "      <td>8.656000</td>\n",
       "      <td>0.054000</td>\n",
       "      <td>0.184000</td>\n",
       "      <td>4.919000</td>\n",
       "      <td>11.597000</td>\n",
       "      <td>39.965000</td>\n",
       "      <td>0.185000</td>\n",
       "      <td>0.202000</td>\n",
       "    </tr>\n",
       "    <tr>\n",
       "      <th>75%</th>\n",
       "      <td>4396.95000</td>\n",
       "      <td>8.672000</td>\n",
       "      <td>0.065000</td>\n",
       "      <td>0.213000</td>\n",
       "      <td>5.979000</td>\n",
       "      <td>59.328500</td>\n",
       "      <td>554.622000</td>\n",
       "      <td>0.228000</td>\n",
       "      <td>0.328000</td>\n",
       "    </tr>\n",
       "    <tr>\n",
       "      <th>max</th>\n",
       "      <td>4744.70000</td>\n",
       "      <td>9.175000</td>\n",
       "      <td>0.201000</td>\n",
       "      <td>0.541000</td>\n",
       "      <td>11.229000</td>\n",
       "      <td>62290.770000</td>\n",
       "      <td>3224.226000</td>\n",
       "      <td>0.292000</td>\n",
       "      <td>1.000000</td>\n",
       "    </tr>\n",
       "  </tbody>\n",
       "</table>\n",
       "</div>"
      ],
      "text/plain": [
       "             DEPTH          CALI          DRHO          NPHI           PEF  \\\n",
       "count  13911.00000  13911.000000  13911.000000  13911.000000  13911.000000   \n",
       "mean    4048.43871      8.661730      0.056124      0.191735      5.367626   \n",
       "std      402.43141      0.071179      0.016340      0.055184      1.340783   \n",
       "min     3351.60000      8.318000     -0.040000      0.024000      3.647000   \n",
       "25%     3699.35000      8.625000      0.046000      0.161000      4.395000   \n",
       "50%     4049.20000      8.656000      0.054000      0.184000      4.919000   \n",
       "75%     4396.95000      8.672000      0.065000      0.213000      5.979000   \n",
       "max     4744.70000      9.175000      0.201000      0.541000     11.229000   \n",
       "\n",
       "                 RT         KLOGH          PHIF           VSH  \n",
       "count  13911.000000  13911.000000  13911.000000  13911.000000  \n",
       "mean    2506.850652    346.473834      0.159142      0.247266  \n",
       "std    12047.425389    518.542832      0.078339      0.174159  \n",
       "min        0.140000      0.001000      0.020000      0.026000  \n",
       "25%        2.973000      0.637500      0.085000      0.105000  \n",
       "50%       11.597000     39.965000      0.185000      0.202000  \n",
       "75%       59.328500    554.622000      0.228000      0.328000  \n",
       "max    62290.770000   3224.226000      0.292000      1.000000  "
      ]
     },
     "execution_count": 58,
     "metadata": {},
     "output_type": "execute_result"
    }
   ],
   "source": [
    "df.describe()"
   ]
  },
  {
   "cell_type": "code",
   "execution_count": 59,
   "metadata": {},
   "outputs": [],
   "source": [
    "# selecting features and label\n",
    "X = df.iloc[:, 1:-1]  # features\n",
    "y = df.iloc[:,-1]  #label"
   ]
  },
  {
   "cell_type": "code",
   "execution_count": 60,
   "metadata": {},
   "outputs": [
    {
     "data": {
      "text/plain": [
       "[(13911, 7), (13911,)]"
      ]
     },
     "execution_count": 60,
     "metadata": {},
     "output_type": "execute_result"
    }
   ],
   "source": [
    "[X.shape, y.shape]"
   ]
  },
  {
   "cell_type": "code",
   "execution_count": 61,
   "metadata": {},
   "outputs": [],
   "source": [
    "# selecting features and label\n",
    "X = df.iloc[:, 1:-1]  # features\n",
    "y = df.iloc[:,-1]  #label\n",
    "\n",
    "# Standardization\n",
    "from sklearn.preprocessing import StandardScaler\n",
    "\n",
    "# transforming X_train value to feed to the model\n",
    "scaler = StandardScaler()\n",
    "X_train_scaled = scaler.fit_transform(X)\n"
   ]
  },
  {
   "cell_type": "code",
   "execution_count": 62,
   "metadata": {},
   "outputs": [],
   "source": [
    "# function to convert seconds to into hours, minutes and seconds\n",
    "# this function is used to measure the running time of any model\n",
    "def convert(seconds):\n",
    "    seconds = seconds % (24 * 3600)\n",
    "    hour = seconds // 3600\n",
    "    seconds %= 3600\n",
    "    minutes = seconds // 60\n",
    "    seconds %= 60\n",
    "      \n",
    "    return \"%d:%02d:%02d\" % (hour, minutes, seconds)"
   ]
  },
  {
   "cell_type": "markdown",
   "metadata": {},
   "source": [
    "### Loading the linear regression model from sklearn\n",
    "### Fit the model, do the prediction"
   ]
  },
  {
   "cell_type": "code",
   "execution_count": 63,
   "metadata": {
    "scrolled": true
   },
   "outputs": [
    {
     "name": "stdout",
     "output_type": "stream",
     "text": [
      "run_time: 0:00:00 h:m:s\n"
     ]
    }
   ],
   "source": [
    "import time\n",
    "from sklearn.linear_model import LinearRegression # LinearRegression, RidgeRegression\n",
    "regressor = LinearRegression(fit_intercept=True, copy_X=True, n_jobs=None, positive=False)\n",
    "\n",
    "start = time.time() # starting of the time\n",
    "# fit/train the model\n",
    "regressor.fit(X_train_scaled,y)\n",
    "\n",
    "end = time.time() # ending of the time\n",
    "print('run_time:', convert(end - start), 'h:m:s')\n",
    "\n"
   ]
  },
  {
   "cell_type": "code",
   "execution_count": 64,
   "metadata": {},
   "outputs": [],
   "source": [
    "import os\n",
    "\n",
    "# Create the output/cnn directory if it doesn't exist\n",
    "output_dir = \"./output/mvr\"\n",
    "os.makedirs(output_dir, exist_ok=True)"
   ]
  },
  {
   "cell_type": "code",
   "execution_count": 65,
   "metadata": {},
   "outputs": [],
   "source": [
    "pred_1 = regressor.predict(X_train_scaled) # prediction for training set"
   ]
  },
  {
   "cell_type": "code",
   "execution_count": 66,
   "metadata": {},
   "outputs": [],
   "source": [
    "# saving training, testing and y data with their predicted data in a excel file with different sheets\n",
    "a = np.stack([y, pred_1], axis=1) # training\n",
    "a = pd.DataFrame(a, columns=['y', 'y_pred'])\n",
    "\n",
    "\n",
    "\n",
    "with pd.ExcelWriter(\"./output/mvr/predicted_mvr_model.xlsx\") as writer:\n",
    "    # use to_excel function and specify the sheet_name and index\n",
    "    # to store the dataframe in specified sheet\n",
    "    a.to_excel(writer, sheet_name=\"training\", index=True)\n",
    "    "
   ]
  },
  {
   "cell_type": "markdown",
   "metadata": {},
   "source": [
    "### Evaluation Metrics for testing set"
   ]
  },
  {
   "cell_type": "code",
   "execution_count": 67,
   "metadata": {},
   "outputs": [
    {
     "data": {
      "text/html": [
       "<div>\n",
       "<style scoped>\n",
       "    .dataframe tbody tr th:only-of-type {\n",
       "        vertical-align: middle;\n",
       "    }\n",
       "\n",
       "    .dataframe tbody tr th {\n",
       "        vertical-align: top;\n",
       "    }\n",
       "\n",
       "    .dataframe thead th {\n",
       "        text-align: right;\n",
       "    }\n",
       "</style>\n",
       "<table border=\"1\" class=\"dataframe\">\n",
       "  <thead>\n",
       "    <tr style=\"text-align: right;\">\n",
       "      <th></th>\n",
       "      <th>0</th>\n",
       "      <th>1</th>\n",
       "      <th>2</th>\n",
       "      <th>3</th>\n",
       "      <th>4</th>\n",
       "      <th>5</th>\n",
       "      <th>6</th>\n",
       "      <th>7</th>\n",
       "    </tr>\n",
       "  </thead>\n",
       "  <tbody>\n",
       "    <tr>\n",
       "      <th>performance_metrics</th>\n",
       "      <td>R2</td>\n",
       "      <td>MAE</td>\n",
       "      <td>MSE</td>\n",
       "      <td>RMSE</td>\n",
       "      <td>MAPE</td>\n",
       "      <td>EV</td>\n",
       "      <td>maxE</td>\n",
       "      <td>minE</td>\n",
       "    </tr>\n",
       "    <tr>\n",
       "      <th>whole</th>\n",
       "      <td>0.622299</td>\n",
       "      <td>0.076658</td>\n",
       "      <td>0.011455</td>\n",
       "      <td>0.429438</td>\n",
       "      <td>0.10703</td>\n",
       "      <td>0.622299</td>\n",
       "      <td>0.549473</td>\n",
       "      <td>0.000001</td>\n",
       "    </tr>\n",
       "  </tbody>\n",
       "</table>\n",
       "</div>"
      ],
      "text/plain": [
       "                            0         1         2         3        4  \\\n",
       "performance_metrics        R2       MAE       MSE      RMSE     MAPE   \n",
       "whole                0.622299  0.076658  0.011455  0.429438  0.10703   \n",
       "\n",
       "                            5         6         7  \n",
       "performance_metrics        EV      maxE      minE  \n",
       "whole                0.622299  0.549473  0.000001  "
      ]
     },
     "execution_count": 67,
     "metadata": {},
     "output_type": "execute_result"
    }
   ],
   "source": [
    "from sklearn.metrics import r2_score\n",
    "from sklearn.metrics import mean_absolute_error\n",
    "from sklearn.metrics import mean_squared_error\n",
    "from sklearn.metrics import mean_absolute_percentage_error\n",
    "from sklearn.metrics import explained_variance_score\n",
    "from sklearn.metrics import max_error\n",
    "\n",
    "\n",
    "train_r2 = r2_score(y,pred_1) # r2_score for training set\n",
    "train_mae = mean_absolute_error(y, pred_1) # mean absolute error for training set\n",
    "train_mse = mean_squared_error(y, pred_1) # mean squared error for training set\n",
    "train_rmse = np.sqrt(mean_squared_error(y, pred_1)) # mean squared error for training set\n",
    "train_mape = mean_absolute_percentage_error(y, pred_1) # mean_absolute_percentage_error for training set\n",
    "train_ev = explained_variance_score(y, pred_1) \n",
    "train_maxE = max_error(y, pred_1)\n",
    "train_minE = min(abs(y - pred_1))\n",
    "\n",
    "\n",
    "\n",
    "metrics = {\n",
    "'performance_metrics': ['R2', 'MAE', 'MSE','RMSE','MAPE', 'EV', 'maxE', 'minE'],\n",
    "'whole': [train_r2, train_mae, train_mse, train_mape,train_rmse, train_ev, train_maxE, train_minE],\n",
    "}\n",
    "\n",
    "performance_metrics = pd.DataFrame(metrics)\n",
    "performance = performance_metrics.transpose()\n",
    "performance.to_csv('./output/mvr/performance_mvr.csv')\n",
    "performance"
   ]
  },
  {
   "cell_type": "code",
   "execution_count": 68,
   "metadata": {},
   "outputs": [
    {
     "data": {
      "text/plain": [
       "array([-0.04363137,  0.0041224 ,  0.06905595, -0.01740707,  0.00585657,\n",
       "       -0.05453675, -0.078955  ])"
      ]
     },
     "execution_count": 68,
     "metadata": {},
     "output_type": "execute_result"
    }
   ],
   "source": [
    "regressor.coef_"
   ]
  },
  {
   "cell_type": "code",
   "execution_count": 69,
   "metadata": {},
   "outputs": [
    {
     "data": {
      "text/plain": [
       "0.2472659765653081"
      ]
     },
     "execution_count": 69,
     "metadata": {},
     "output_type": "execute_result"
    }
   ],
   "source": [
    "regressor.intercept_"
   ]
  },
  {
   "cell_type": "code",
   "execution_count": 70,
   "metadata": {},
   "outputs": [
    {
     "data": {
      "text/html": [
       "<div>\n",
       "<style scoped>\n",
       "    .dataframe tbody tr th:only-of-type {\n",
       "        vertical-align: middle;\n",
       "    }\n",
       "\n",
       "    .dataframe tbody tr th {\n",
       "        vertical-align: top;\n",
       "    }\n",
       "\n",
       "    .dataframe thead th {\n",
       "        text-align: right;\n",
       "    }\n",
       "</style>\n",
       "<table border=\"1\" class=\"dataframe\">\n",
       "  <thead>\n",
       "    <tr style=\"text-align: right;\">\n",
       "      <th></th>\n",
       "      <th>DEPTH</th>\n",
       "      <th>CALI</th>\n",
       "      <th>DRHO</th>\n",
       "      <th>NPHI</th>\n",
       "      <th>PEF</th>\n",
       "      <th>RT</th>\n",
       "      <th>KLOGH</th>\n",
       "      <th>PHIF</th>\n",
       "      <th>VSH</th>\n",
       "    </tr>\n",
       "  </thead>\n",
       "  <tbody>\n",
       "    <tr>\n",
       "      <th>0</th>\n",
       "      <td>3575.0</td>\n",
       "      <td>8.648</td>\n",
       "      <td>0.069</td>\n",
       "      <td>0.252</td>\n",
       "      <td>6.823</td>\n",
       "      <td>1.960</td>\n",
       "      <td>0.001</td>\n",
       "      <td>0.087</td>\n",
       "      <td>0.773</td>\n",
       "    </tr>\n",
       "    <tr>\n",
       "      <th>1</th>\n",
       "      <td>3575.1</td>\n",
       "      <td>8.648</td>\n",
       "      <td>0.070</td>\n",
       "      <td>0.254</td>\n",
       "      <td>6.810</td>\n",
       "      <td>1.914</td>\n",
       "      <td>0.001</td>\n",
       "      <td>0.088</td>\n",
       "      <td>0.742</td>\n",
       "    </tr>\n",
       "    <tr>\n",
       "      <th>2</th>\n",
       "      <td>3575.2</td>\n",
       "      <td>8.672</td>\n",
       "      <td>0.067</td>\n",
       "      <td>0.253</td>\n",
       "      <td>6.825</td>\n",
       "      <td>1.775</td>\n",
       "      <td>0.001</td>\n",
       "      <td>0.090</td>\n",
       "      <td>0.740</td>\n",
       "    </tr>\n",
       "    <tr>\n",
       "      <th>3</th>\n",
       "      <td>3575.3</td>\n",
       "      <td>8.672</td>\n",
       "      <td>0.062</td>\n",
       "      <td>0.248</td>\n",
       "      <td>6.841</td>\n",
       "      <td>1.766</td>\n",
       "      <td>0.001</td>\n",
       "      <td>0.092</td>\n",
       "      <td>0.758</td>\n",
       "    </tr>\n",
       "    <tr>\n",
       "      <th>4</th>\n",
       "      <td>3575.4</td>\n",
       "      <td>8.672</td>\n",
       "      <td>0.059</td>\n",
       "      <td>0.243</td>\n",
       "      <td>6.857</td>\n",
       "      <td>1.750</td>\n",
       "      <td>0.001</td>\n",
       "      <td>0.092</td>\n",
       "      <td>0.778</td>\n",
       "    </tr>\n",
       "  </tbody>\n",
       "</table>\n",
       "</div>"
      ],
      "text/plain": [
       "    DEPTH   CALI   DRHO   NPHI    PEF     RT  KLOGH   PHIF    VSH\n",
       "0  3575.0  8.648  0.069  0.252  6.823  1.960  0.001  0.087  0.773\n",
       "1  3575.1  8.648  0.070  0.254  6.810  1.914  0.001  0.088  0.742\n",
       "2  3575.2  8.672  0.067  0.253  6.825  1.775  0.001  0.090  0.740\n",
       "3  3575.3  8.672  0.062  0.248  6.841  1.766  0.001  0.092  0.758\n",
       "4  3575.4  8.672  0.059  0.243  6.857  1.750  0.001  0.092  0.778"
      ]
     },
     "execution_count": 70,
     "metadata": {},
     "output_type": "execute_result"
    }
   ],
   "source": [
    "df = pd.read_csv(r'USED DATA\\Volvo 11 A Vsh.csv')\n",
    "df.head()"
   ]
  },
  {
   "cell_type": "code",
   "execution_count": 71,
   "metadata": {},
   "outputs": [],
   "source": [
    "# selecting features and label\n",
    "X = df.iloc[:, 1:-1]  # features\n",
    "y = df.iloc[:,-1]  #label\n",
    "\n",
    "# Standardization\n",
    "from sklearn.preprocessing import StandardScaler\n",
    "\n",
    "# transforming X_train value to feed to the model\n",
    "scaler = StandardScaler()\n",
    "X_train_scaled = scaler.fit_transform(X)"
   ]
  },
  {
   "cell_type": "code",
   "execution_count": 72,
   "metadata": {},
   "outputs": [],
   "source": [
    "pred_1 = regressor.predict(X_train_scaled) # prediction for training set"
   ]
  },
  {
   "cell_type": "code",
   "execution_count": 73,
   "metadata": {},
   "outputs": [],
   "source": [
    "# saving training, testing and y data with their predicted data in a excel file with different sheets\n",
    "a = np.stack([y, pred_1], axis=1) # training\n",
    "a = pd.DataFrame(a, columns=['y', 'y_pred'])\n",
    "\n",
    "\n",
    "\n",
    "with pd.ExcelWriter(\"./output/mvr/predicted_mvr_model_11A.xlsx\") as writer:\n",
    "    # use to_excel function and specify the sheet_name and index\n",
    "    # to store the dataframe in specified sheet\n",
    "    a.to_excel(writer, sheet_name=\"training\", index=True)"
   ]
  },
  {
   "cell_type": "code",
   "execution_count": 74,
   "metadata": {},
   "outputs": [
    {
     "data": {
      "text/html": [
       "<div>\n",
       "<style scoped>\n",
       "    .dataframe tbody tr th:only-of-type {\n",
       "        vertical-align: middle;\n",
       "    }\n",
       "\n",
       "    .dataframe tbody tr th {\n",
       "        vertical-align: top;\n",
       "    }\n",
       "\n",
       "    .dataframe thead th {\n",
       "        text-align: right;\n",
       "    }\n",
       "</style>\n",
       "<table border=\"1\" class=\"dataframe\">\n",
       "  <thead>\n",
       "    <tr style=\"text-align: right;\">\n",
       "      <th></th>\n",
       "      <th>0</th>\n",
       "      <th>1</th>\n",
       "      <th>2</th>\n",
       "      <th>3</th>\n",
       "      <th>4</th>\n",
       "      <th>5</th>\n",
       "      <th>6</th>\n",
       "      <th>7</th>\n",
       "    </tr>\n",
       "  </thead>\n",
       "  <tbody>\n",
       "    <tr>\n",
       "      <th>performance_metrics</th>\n",
       "      <td>R2</td>\n",
       "      <td>MAE</td>\n",
       "      <td>MSE</td>\n",
       "      <td>RMSE</td>\n",
       "      <td>MAPE</td>\n",
       "      <td>EV</td>\n",
       "      <td>maxE</td>\n",
       "      <td>minE</td>\n",
       "    </tr>\n",
       "    <tr>\n",
       "      <th>whole</th>\n",
       "      <td>0.186724</td>\n",
       "      <td>0.158677</td>\n",
       "      <td>0.045052</td>\n",
       "      <td>0.92282</td>\n",
       "      <td>0.212254</td>\n",
       "      <td>0.249737</td>\n",
       "      <td>0.709172</td>\n",
       "      <td>0.000236</td>\n",
       "    </tr>\n",
       "  </tbody>\n",
       "</table>\n",
       "</div>"
      ],
      "text/plain": [
       "                            0         1         2        3         4  \\\n",
       "performance_metrics        R2       MAE       MSE     RMSE      MAPE   \n",
       "whole                0.186724  0.158677  0.045052  0.92282  0.212254   \n",
       "\n",
       "                            5         6         7  \n",
       "performance_metrics        EV      maxE      minE  \n",
       "whole                0.249737  0.709172  0.000236  "
      ]
     },
     "execution_count": 74,
     "metadata": {},
     "output_type": "execute_result"
    }
   ],
   "source": [
    "from sklearn.metrics import r2_score\n",
    "from sklearn.metrics import mean_absolute_error\n",
    "from sklearn.metrics import mean_squared_error\n",
    "from sklearn.metrics import mean_absolute_percentage_error\n",
    "from sklearn.metrics import explained_variance_score\n",
    "from sklearn.metrics import max_error\n",
    "\n",
    "\n",
    "train_r2 = r2_score(y,pred_1) # r2_score for training set\n",
    "train_mae = mean_absolute_error(y, pred_1) # mean absolute error for training set\n",
    "train_mse = mean_squared_error(y, pred_1) # mean squared error for training set\n",
    "train_rmse = np.sqrt(mean_squared_error(y, pred_1)) # mean squared error for training set\n",
    "train_mape = mean_absolute_percentage_error(y, pred_1) # mean_absolute_percentage_error for training set\n",
    "train_ev = explained_variance_score(y, pred_1) \n",
    "train_maxE = max_error(y, pred_1)\n",
    "train_minE = min(abs(y - pred_1))\n",
    "\n",
    "\n",
    "\n",
    "metrics = {\n",
    "'performance_metrics': ['R2', 'MAE', 'MSE','RMSE','MAPE', 'EV', 'maxE', 'minE'],\n",
    "'whole': [train_r2, train_mae, train_mse, train_mape,train_rmse, train_ev, train_maxE, train_minE],\n",
    "}\n",
    "\n",
    "performance_metrics = pd.DataFrame(metrics)\n",
    "performance = performance_metrics.transpose()\n",
    "performance.to_csv('./output/mvr/performance_mvr_11a.csv')\n",
    "performance"
   ]
  },
  {
   "cell_type": "code",
   "execution_count": 75,
   "metadata": {},
   "outputs": [
    {
     "data": {
      "text/html": [
       "<div>\n",
       "<style scoped>\n",
       "    .dataframe tbody tr th:only-of-type {\n",
       "        vertical-align: middle;\n",
       "    }\n",
       "\n",
       "    .dataframe tbody tr th {\n",
       "        vertical-align: top;\n",
       "    }\n",
       "\n",
       "    .dataframe thead th {\n",
       "        text-align: right;\n",
       "    }\n",
       "</style>\n",
       "<table border=\"1\" class=\"dataframe\">\n",
       "  <thead>\n",
       "    <tr style=\"text-align: right;\">\n",
       "      <th></th>\n",
       "      <th>DEPTH</th>\n",
       "      <th>CALI</th>\n",
       "      <th>DRHO</th>\n",
       "      <th>NPHI</th>\n",
       "      <th>PEF</th>\n",
       "      <th>RT</th>\n",
       "      <th>KLOGH</th>\n",
       "      <th>PHIF</th>\n",
       "      <th>VSH</th>\n",
       "    </tr>\n",
       "  </thead>\n",
       "  <tbody>\n",
       "    <tr>\n",
       "      <th>0</th>\n",
       "      <td>4335.0</td>\n",
       "      <td>8.703</td>\n",
       "      <td>0.057</td>\n",
       "      <td>0.214</td>\n",
       "      <td>6.779</td>\n",
       "      <td>2.194</td>\n",
       "      <td>0.001</td>\n",
       "      <td>0.091</td>\n",
       "      <td>0.794</td>\n",
       "    </tr>\n",
       "    <tr>\n",
       "      <th>1</th>\n",
       "      <td>4335.1</td>\n",
       "      <td>8.687</td>\n",
       "      <td>0.057</td>\n",
       "      <td>0.216</td>\n",
       "      <td>6.800</td>\n",
       "      <td>2.261</td>\n",
       "      <td>0.001</td>\n",
       "      <td>0.088</td>\n",
       "      <td>0.785</td>\n",
       "    </tr>\n",
       "    <tr>\n",
       "      <th>2</th>\n",
       "      <td>4335.2</td>\n",
       "      <td>8.672</td>\n",
       "      <td>0.052</td>\n",
       "      <td>0.214</td>\n",
       "      <td>6.869</td>\n",
       "      <td>2.249</td>\n",
       "      <td>0.001</td>\n",
       "      <td>0.089</td>\n",
       "      <td>0.783</td>\n",
       "    </tr>\n",
       "    <tr>\n",
       "      <th>3</th>\n",
       "      <td>4335.3</td>\n",
       "      <td>8.672</td>\n",
       "      <td>0.046</td>\n",
       "      <td>0.209</td>\n",
       "      <td>6.956</td>\n",
       "      <td>2.231</td>\n",
       "      <td>0.001</td>\n",
       "      <td>0.090</td>\n",
       "      <td>0.765</td>\n",
       "    </tr>\n",
       "    <tr>\n",
       "      <th>4</th>\n",
       "      <td>4335.4</td>\n",
       "      <td>8.693</td>\n",
       "      <td>0.042</td>\n",
       "      <td>0.202</td>\n",
       "      <td>7.019</td>\n",
       "      <td>2.231</td>\n",
       "      <td>0.001</td>\n",
       "      <td>0.090</td>\n",
       "      <td>0.763</td>\n",
       "    </tr>\n",
       "  </tbody>\n",
       "</table>\n",
       "</div>"
      ],
      "text/plain": [
       "    DEPTH   CALI   DRHO   NPHI    PEF     RT  KLOGH   PHIF    VSH\n",
       "0  4335.0  8.703  0.057  0.214  6.779  2.194  0.001  0.091  0.794\n",
       "1  4335.1  8.687  0.057  0.216  6.800  2.261  0.001  0.088  0.785\n",
       "2  4335.2  8.672  0.052  0.214  6.869  2.249  0.001  0.089  0.783\n",
       "3  4335.3  8.672  0.046  0.209  6.956  2.231  0.001  0.090  0.765\n",
       "4  4335.4  8.693  0.042  0.202  7.019  2.231  0.001  0.090  0.763"
      ]
     },
     "execution_count": 75,
     "metadata": {},
     "output_type": "execute_result"
    }
   ],
   "source": [
    "df = pd.read_csv(r'USED DATA\\Volvo T2 vsh.csv')\n",
    "df.head()"
   ]
  },
  {
   "cell_type": "code",
   "execution_count": 76,
   "metadata": {},
   "outputs": [],
   "source": [
    "# selecting features and label\n",
    "X = df.iloc[:, 1:-1]  # features\n",
    "y = df.iloc[:,-1]  #label\n",
    "\n",
    "# Standardization\n",
    "from sklearn.preprocessing import StandardScaler\n",
    "\n",
    "# transforming X_train value to feed to the model\n",
    "scaler = StandardScaler()\n",
    "X_train_scaled = scaler.fit_transform(X)"
   ]
  },
  {
   "cell_type": "code",
   "execution_count": 79,
   "metadata": {},
   "outputs": [],
   "source": [
    "# saving training, testing and y data with their predicted data in a excel file with different sheets\n",
    "a = np.stack([y, pred_1], axis=1) # training\n",
    "a = pd.DataFrame(a, columns=['y', 'y_pred'])\n",
    "\n",
    "\n",
    "\n",
    "with pd.ExcelWriter(\"./output/mvr/predicted_mvr_model_t2.xlsx\") as writer:\n",
    "    # use to_excel function and specify the sheet_name and index\n",
    "    # to store the dataframe in specified sheet\n",
    "    a.to_excel(writer, sheet_name=\"training\", index=True)"
   ]
  },
  {
   "cell_type": "code",
   "execution_count": 78,
   "metadata": {},
   "outputs": [],
   "source": [
    "pred_1 = regressor.predict(X_train_scaled) # prediction for training set"
   ]
  },
  {
   "cell_type": "code",
   "execution_count": 80,
   "metadata": {},
   "outputs": [
    {
     "data": {
      "text/html": [
       "<div>\n",
       "<style scoped>\n",
       "    .dataframe tbody tr th:only-of-type {\n",
       "        vertical-align: middle;\n",
       "    }\n",
       "\n",
       "    .dataframe tbody tr th {\n",
       "        vertical-align: top;\n",
       "    }\n",
       "\n",
       "    .dataframe thead th {\n",
       "        text-align: right;\n",
       "    }\n",
       "</style>\n",
       "<table border=\"1\" class=\"dataframe\">\n",
       "  <thead>\n",
       "    <tr style=\"text-align: right;\">\n",
       "      <th></th>\n",
       "      <th>0</th>\n",
       "      <th>1</th>\n",
       "      <th>2</th>\n",
       "      <th>3</th>\n",
       "      <th>4</th>\n",
       "      <th>5</th>\n",
       "      <th>6</th>\n",
       "      <th>7</th>\n",
       "    </tr>\n",
       "  </thead>\n",
       "  <tbody>\n",
       "    <tr>\n",
       "      <th>performance_metrics</th>\n",
       "      <td>R2</td>\n",
       "      <td>MAE</td>\n",
       "      <td>MSE</td>\n",
       "      <td>RMSE</td>\n",
       "      <td>MAPE</td>\n",
       "      <td>EV</td>\n",
       "      <td>maxE</td>\n",
       "      <td>minE</td>\n",
       "    </tr>\n",
       "    <tr>\n",
       "      <th>whole</th>\n",
       "      <td>0.32844</td>\n",
       "      <td>0.148432</td>\n",
       "      <td>0.044314</td>\n",
       "      <td>0.626029</td>\n",
       "      <td>0.21051</td>\n",
       "      <td>0.430895</td>\n",
       "      <td>0.628452</td>\n",
       "      <td>0.000026</td>\n",
       "    </tr>\n",
       "  </tbody>\n",
       "</table>\n",
       "</div>"
      ],
      "text/plain": [
       "                           0         1         2         3        4         5  \\\n",
       "performance_metrics       R2       MAE       MSE      RMSE     MAPE        EV   \n",
       "whole                0.32844  0.148432  0.044314  0.626029  0.21051  0.430895   \n",
       "\n",
       "                            6         7  \n",
       "performance_metrics      maxE      minE  \n",
       "whole                0.628452  0.000026  "
      ]
     },
     "execution_count": 80,
     "metadata": {},
     "output_type": "execute_result"
    }
   ],
   "source": [
    "from sklearn.metrics import r2_score\n",
    "from sklearn.metrics import mean_absolute_error\n",
    "from sklearn.metrics import mean_squared_error\n",
    "from sklearn.metrics import mean_absolute_percentage_error\n",
    "from sklearn.metrics import explained_variance_score\n",
    "from sklearn.metrics import max_error\n",
    "\n",
    "\n",
    "train_r2 = r2_score(y,pred_1) # r2_score for training set\n",
    "train_mae = mean_absolute_error(y, pred_1) # mean absolute error for training set\n",
    "train_mse = mean_squared_error(y, pred_1) # mean squared error for training set\n",
    "train_rmse = np.sqrt(mean_squared_error(y, pred_1)) # mean squared error for training set\n",
    "train_mape = mean_absolute_percentage_error(y, pred_1) # mean_absolute_percentage_error for training set\n",
    "train_ev = explained_variance_score(y, pred_1) \n",
    "train_maxE = max_error(y, pred_1)\n",
    "train_minE = min(abs(y - pred_1))\n",
    "\n",
    "\n",
    "\n",
    "metrics = {\n",
    "'performance_metrics': ['R2', 'MAE', 'MSE','RMSE','MAPE', 'EV', 'maxE', 'minE'],\n",
    "'whole': [train_r2, train_mae, train_mse, train_mape,train_rmse, train_ev, train_maxE, train_minE],\n",
    "}\n",
    "\n",
    "performance_metrics = pd.DataFrame(metrics)\n",
    "performance = performance_metrics.transpose()\n",
    "performance.to_csv('./output/mvr/performance_mvr_11t2.csv')\n",
    "performance"
   ]
  },
  {
   "cell_type": "markdown",
   "metadata": {},
   "source": [
    "### Saving trained model to a file and reading the same file using pickle module"
   ]
  },
  {
   "cell_type": "code",
   "execution_count": 81,
   "metadata": {},
   "outputs": [
    {
     "data": {
      "text/plain": [
       "['./output/mvr/trained_linear_regression_model.joblib']"
      ]
     },
     "execution_count": 81,
     "metadata": {},
     "output_type": "execute_result"
    }
   ],
   "source": [
    "#from sklearn.externals import joblib\n",
    "from joblib import dump, load\n",
    "dump(regressor, './output/mvr/trained_linear_regression_model.joblib') \n",
    "\n",
    "#clf = load('trained_linear_regression_model.joblib')"
   ]
  },
  {
   "cell_type": "code",
   "execution_count": 82,
   "metadata": {},
   "outputs": [],
   "source": [
    "pred_1 = regressor.predict(X_train_scaled) # prediction for training set"
   ]
  },
  {
   "cell_type": "code",
   "execution_count": 83,
   "metadata": {},
   "outputs": [
    {
     "data": {
      "text/plain": [
       "['./output/mvr/trained_linear_regression_model_poly.joblib']"
      ]
     },
     "execution_count": 83,
     "metadata": {},
     "output_type": "execute_result"
    }
   ],
   "source": [
    "#from sklearn.externals import joblib\n",
    "from joblib import dump, load\n",
    "dump(model, './output/mvr/trained_linear_regression_model_poly.joblib') \n",
    "\n",
    "#clf = load('trained_linear_regression_model.joblib')"
   ]
  },
  {
   "cell_type": "code",
   "execution_count": 84,
   "metadata": {},
   "outputs": [
    {
     "ename": "NameError",
     "evalue": "name 'X_test_scaled' is not defined",
     "output_type": "error",
     "traceback": [
      "\u001b[1;31m---------------------------------------------------------------------------\u001b[0m",
      "\u001b[1;31mNameError\u001b[0m                                 Traceback (most recent call last)",
      "Cell \u001b[1;32mIn [84], line 3\u001b[0m\n\u001b[0;32m      1\u001b[0m \u001b[38;5;66;03m#prediction using test cases or completely new cases\u001b[39;00m\n\u001b[0;32m      2\u001b[0m pred_1 \u001b[38;5;241m=\u001b[39m regressor\u001b[38;5;241m.\u001b[39mpredict(X_train_scaled) \u001b[38;5;66;03m# prediction for training set\u001b[39;00m\n\u001b[1;32m----> 3\u001b[0m pred_2 \u001b[38;5;241m=\u001b[39m regressor\u001b[38;5;241m.\u001b[39mpredict(\u001b[43mX_test_scaled\u001b[49m) \u001b[38;5;66;03m# prediction for testing set\u001b[39;00m\n",
      "\u001b[1;31mNameError\u001b[0m: name 'X_test_scaled' is not defined"
     ]
    }
   ],
   "source": [
    "#prediction using test cases or completely new cases\n",
    "pred_1 = regressor.predict(X_train_scaled) # prediction for training set\n",
    "pred_2 = regressor.predict(X_test_scaled) # prediction for testing set"
   ]
  },
  {
   "cell_type": "markdown",
   "metadata": {},
   "source": [
    "### Regression plot for testing set"
   ]
  }
 ],
 "metadata": {
  "kernelspec": {
   "display_name": "base",
   "language": "python",
   "name": "python3"
  },
  "language_info": {
   "codemirror_mode": {
    "name": "ipython",
    "version": 3
   },
   "file_extension": ".py",
   "mimetype": "text/x-python",
   "name": "python",
   "nbconvert_exporter": "python",
   "pygments_lexer": "ipython3",
   "version": "3.11.5"
  }
 },
 "nbformat": 4,
 "nbformat_minor": 4
}
